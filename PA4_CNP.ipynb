{
 "cells": [
  {
   "cell_type": "code",
   "execution_count": 9,
   "id": "0987f26f",
   "metadata": {},
   "outputs": [],
   "source": [
    "List1=['Dogs','Cats','Cows']"
   ]
  },
  {
   "cell_type": "code",
   "execution_count": 10,
   "id": "35de4748",
   "metadata": {},
   "outputs": [],
   "source": [
    "List1.append('Chickens') #append adds the specified item (Chickens) to the end of the defined list (List1)"
   ]
  },
  {
   "cell_type": "code",
   "execution_count": 11,
   "id": "7479f2a2",
   "metadata": {},
   "outputs": [
    {
     "data": {
      "text/plain": [
       "['Dogs', 'Cats', 'Cows', 'Chickens']"
      ]
     },
     "execution_count": 11,
     "metadata": {},
     "output_type": "execute_result"
    }
   ],
   "source": [
    "List1"
   ]
  },
  {
   "cell_type": "code",
   "execution_count": 12,
   "id": "044e5496",
   "metadata": {},
   "outputs": [],
   "source": [
    "List2=['Sheep','Parrots']"
   ]
  },
  {
   "cell_type": "code",
   "execution_count": 13,
   "id": "0618faf2",
   "metadata": {},
   "outputs": [],
   "source": [
    "List1.extend(List2) #extend combines a specified list (List2) with the original list (List1)"
   ]
  },
  {
   "cell_type": "code",
   "execution_count": 14,
   "id": "495445a8",
   "metadata": {},
   "outputs": [
    {
     "data": {
      "text/plain": [
       "['Dogs', 'Cats', 'Cows', 'Chickens', 'Sheep', 'Parrots']"
      ]
     },
     "execution_count": 14,
     "metadata": {},
     "output_type": "execute_result"
    }
   ],
   "source": [
    "List1"
   ]
  },
  {
   "cell_type": "code",
   "execution_count": 15,
   "id": "7e65ecd9",
   "metadata": {},
   "outputs": [],
   "source": [
    "List1.insert(2,'Sea Urchins') #insert adds a specified term (sea urchins) into a specified position (position 2)"
   ]
  },
  {
   "cell_type": "code",
   "execution_count": 16,
   "id": "41ccfc9d",
   "metadata": {},
   "outputs": [
    {
     "data": {
      "text/plain": [
       "['Dogs', 'Cats', 'Sea Urchins', 'Cows', 'Chickens', 'Sheep', 'Parrots']"
      ]
     },
     "execution_count": 16,
     "metadata": {},
     "output_type": "execute_result"
    }
   ],
   "source": [
    "List1"
   ]
  },
  {
   "cell_type": "code",
   "execution_count": 17,
   "id": "81c1d0b0",
   "metadata": {},
   "outputs": [],
   "source": [
    "List1.remove('Cats') #remove takes a specified item (Cats) out of a given list (List1)"
   ]
  },
  {
   "cell_type": "code",
   "execution_count": 18,
   "id": "24f4f67b",
   "metadata": {},
   "outputs": [
    {
     "data": {
      "text/plain": [
       "['Dogs', 'Sea Urchins', 'Cows', 'Chickens', 'Sheep', 'Parrots']"
      ]
     },
     "execution_count": 18,
     "metadata": {},
     "output_type": "execute_result"
    }
   ],
   "source": [
    "List1"
   ]
  },
  {
   "cell_type": "code",
   "execution_count": 19,
   "id": "60772f53",
   "metadata": {},
   "outputs": [
    {
     "data": {
      "text/plain": [
       "1"
      ]
     },
     "execution_count": 19,
     "metadata": {},
     "output_type": "execute_result"
    }
   ],
   "source": [
    "List1.count('Cows') #count gives the number of times a specified item (Cows) appears in a given list (List1)"
   ]
  },
  {
   "cell_type": "code",
   "execution_count": 20,
   "id": "63ddf760",
   "metadata": {},
   "outputs": [
    {
     "data": {
      "text/plain": [
       "3"
      ]
     },
     "execution_count": 20,
     "metadata": {},
     "output_type": "execute_result"
    }
   ],
   "source": [
    "List1.index('Chickens') #index gives the position of a specified element (Chickens) in a given list (List1)"
   ]
  },
  {
   "cell_type": "code",
   "execution_count": 21,
   "id": "8e03f3eb",
   "metadata": {},
   "outputs": [
    {
     "data": {
      "text/plain": [
       "'Chickens'"
      ]
     },
     "execution_count": 21,
     "metadata": {},
     "output_type": "execute_result"
    }
   ],
   "source": [
    "List1.pop(3) #pop takes a selected position (3) and removes the corresponding item (Chickens) from the given list (List1)"
   ]
  },
  {
   "cell_type": "code",
   "execution_count": 22,
   "id": "ebd1244e",
   "metadata": {},
   "outputs": [
    {
     "data": {
      "text/plain": [
       "['Dogs', 'Sea Urchins', 'Cows', 'Sheep', 'Parrots']"
      ]
     },
     "execution_count": 22,
     "metadata": {},
     "output_type": "execute_result"
    }
   ],
   "source": [
    "List1"
   ]
  },
  {
   "cell_type": "code",
   "execution_count": 24,
   "id": "35653486",
   "metadata": {},
   "outputs": [],
   "source": [
    "List1.sort() #sort puts the items in a given list (List1) in order, either increasing by ascending number or letter"
   ]
  },
  {
   "cell_type": "code",
   "execution_count": 26,
   "id": "f988f9c6",
   "metadata": {},
   "outputs": [
    {
     "data": {
      "text/plain": [
       "['Cows', 'Dogs', 'Parrots', 'Sea Urchins', 'Sheep']"
      ]
     },
     "execution_count": 26,
     "metadata": {},
     "output_type": "execute_result"
    }
   ],
   "source": [
    "List1"
   ]
  },
  {
   "cell_type": "code",
   "execution_count": 27,
   "id": "0bf64499",
   "metadata": {},
   "outputs": [
    {
     "data": {
      "text/plain": [
       "['Cows', 'Dogs', 'Parrots', 'Sea Urchins', 'Sheep']"
      ]
     },
     "execution_count": 27,
     "metadata": {},
     "output_type": "execute_result"
    }
   ],
   "source": [
    "List1.copy() #copy makes an identical copy of a given list (List1)"
   ]
  },
  {
   "cell_type": "code",
   "execution_count": 60,
   "id": "6bffb21b",
   "metadata": {},
   "outputs": [],
   "source": [
    "List1.clear() #clear removes all elements of a given list (List1)"
   ]
  },
  {
   "cell_type": "code",
   "execution_count": 61,
   "id": "a942181b",
   "metadata": {},
   "outputs": [
    {
     "data": {
      "text/plain": [
       "[]"
      ]
     },
     "execution_count": 61,
     "metadata": {},
     "output_type": "execute_result"
    }
   ],
   "source": [
    "List1"
   ]
  },
  {
   "cell_type": "code",
   "execution_count": 28,
   "id": "e72fef02",
   "metadata": {},
   "outputs": [],
   "source": [
    "ListTF=[True,False,True]"
   ]
  },
  {
   "cell_type": "code",
   "execution_count": 30,
   "id": "248b3c5c",
   "metadata": {},
   "outputs": [
    {
     "data": {
      "text/plain": [
       "True"
      ]
     },
     "execution_count": 30,
     "metadata": {},
     "output_type": "execute_result"
    }
   ],
   "source": [
    "any(ListTF) #any returns true if any of the items in the given list (ListTF) are True and False if none are True"
   ]
  },
  {
   "cell_type": "code",
   "execution_count": 33,
   "id": "94d2a4e3",
   "metadata": {},
   "outputs": [],
   "source": [
    "List3=[1,5,3,24,17]"
   ]
  },
  {
   "cell_type": "code",
   "execution_count": 48,
   "id": "0c9b4a8a",
   "metadata": {},
   "outputs": [],
   "source": [
    "filtered=[]"
   ]
  },
  {
   "cell_type": "code",
   "execution_count": 58,
   "id": "ec2b3ab2",
   "metadata": {},
   "outputs": [
    {
     "name": "stdout",
     "output_type": "stream",
     "text": [
      "[1, 5, 3]\n"
     ]
    }
   ],
   "source": [
    "filtered=filter(lambda List3: List3<15, List3) \n",
    "print(list(filtered)) #filter uses a qualification and removes all elements of a list which do not satisfy the qualification"
   ]
  },
  {
   "cell_type": "code",
   "execution_count": 59,
   "id": "c09271e9",
   "metadata": {},
   "outputs": [
    {
     "data": {
      "text/plain": [
       "[1, 5, 3, 24, 17]"
      ]
     },
     "execution_count": 59,
     "metadata": {},
     "output_type": "execute_result"
    }
   ],
   "source": [
    "List3"
   ]
  },
  {
   "cell_type": "code",
   "execution_count": 76,
   "id": "2660ba78",
   "metadata": {},
   "outputs": [
    {
     "data": {
      "text/plain": [
       "['P', 'y', 't', 'h', 'o', 'n']"
      ]
     },
     "execution_count": 76,
     "metadata": {},
     "output_type": "execute_result"
    }
   ],
   "source": [
    "list('Python') #list takes an object that could be a sequence or any iterable object (Python) and turns it into a list "
   ]
  },
  {
   "cell_type": "code",
   "execution_count": 75,
   "id": "470975ef",
   "metadata": {},
   "outputs": [
    {
     "data": {
      "text/plain": [
       "[1, 25, 9, 576, 289]"
      ]
     },
     "execution_count": 75,
     "metadata": {},
     "output_type": "execute_result"
    }
   ],
   "source": [
    "def squared(number):\n",
    "    return number*number\n",
    "numbersquared=map(squared,List3)\n",
    "numbersquared=list(numbersquared)\n",
    "numbersquared        #map allows processing and transformation of the items in a given list (List3) without a for loop"
   ]
  },
  {
   "cell_type": "code",
   "execution_count": 64,
   "id": "a5936a79",
   "metadata": {},
   "outputs": [],
   "source": [
    "Tuple1=(1,5,9)"
   ]
  },
  {
   "cell_type": "code",
   "execution_count": 65,
   "id": "0205ccf5",
   "metadata": {},
   "outputs": [],
   "source": [
    "Tuple2=(3,7,12)"
   ]
  },
  {
   "cell_type": "code",
   "execution_count": 66,
   "id": "7be1f809",
   "metadata": {},
   "outputs": [],
   "source": [
    "Tuple3=(5,1,9)"
   ]
  },
  {
   "cell_type": "code",
   "execution_count": 67,
   "id": "15a299ff",
   "metadata": {},
   "outputs": [
    {
     "ename": "NameError",
     "evalue": "name 'cmp' is not defined",
     "output_type": "error",
     "traceback": [
      "\u001b[1;31m---------------------------------------------------------------------------\u001b[0m",
      "\u001b[1;31mNameError\u001b[0m                                 Traceback (most recent call last)",
      "\u001b[1;32m<ipython-input-67-3ec54a86ce4e>\u001b[0m in \u001b[0;36m<module>\u001b[1;34m\u001b[0m\n\u001b[1;32m----> 1\u001b[1;33m \u001b[0mcmp\u001b[0m\u001b[1;33m(\u001b[0m\u001b[0mTuple1\u001b[0m\u001b[1;33m,\u001b[0m\u001b[0mTuple2\u001b[0m\u001b[1;33m)\u001b[0m\u001b[1;33m\u001b[0m\u001b[1;33m\u001b[0m\u001b[0m\n\u001b[0m",
      "\u001b[1;31mNameError\u001b[0m: name 'cmp' is not defined"
     ]
    }
   ],
   "source": [
    "cmp(Tuple1,Tuple2) #cmp is supposed to compare the elements of two tuples but for some reason it is not working"
   ]
  },
  {
   "cell_type": "code",
   "execution_count": 68,
   "id": "900e9f10",
   "metadata": {},
   "outputs": [
    {
     "data": {
      "text/plain": [
       "3"
      ]
     },
     "execution_count": 68,
     "metadata": {},
     "output_type": "execute_result"
    }
   ],
   "source": [
    "len(Tuple1) #len gives us the number of elements in a given tuple (Tuple1)"
   ]
  },
  {
   "cell_type": "code",
   "execution_count": 69,
   "id": "5cea7fdb",
   "metadata": {},
   "outputs": [
    {
     "data": {
      "text/plain": [
       "12"
      ]
     },
     "execution_count": 69,
     "metadata": {},
     "output_type": "execute_result"
    }
   ],
   "source": [
    "max(Tuple2) #max gives us the maximum number in a given tuple (Tuple2) or last element of a string put in alphabetical order"
   ]
  },
  {
   "cell_type": "code",
   "execution_count": 71,
   "id": "e6026f2d",
   "metadata": {},
   "outputs": [
    {
     "data": {
      "text/plain": [
       "(2, 4, 6, 8, 10)"
      ]
     },
     "execution_count": 71,
     "metadata": {},
     "output_type": "execute_result"
    }
   ],
   "source": [
    "List4=[2,4,6,8,10] #tuple(sec) converts a given list (List4) into a tuple\n",
    "tuple(List4)"
   ]
  },
  {
   "cell_type": "markdown",
   "id": "1fede197",
   "metadata": {},
   "source": [
    "## Caleb Puckett"
   ]
  },
  {
   "cell_type": "markdown",
   "id": "809e5f71",
   "metadata": {},
   "source": [
    "## PA4_CNP"
   ]
  },
  {
   "cell_type": "markdown",
   "id": "817aabcb",
   "metadata": {},
   "source": [
    "## CS-150-02"
   ]
  },
  {
   "cell_type": "markdown",
   "id": "2256664b",
   "metadata": {},
   "source": [
    "## Fall 2021"
   ]
  }
 ],
 "metadata": {
  "kernelspec": {
   "display_name": "Python 3",
   "language": "python",
   "name": "python3"
  },
  "language_info": {
   "codemirror_mode": {
    "name": "ipython",
    "version": 3
   },
   "file_extension": ".py",
   "mimetype": "text/x-python",
   "name": "python",
   "nbconvert_exporter": "python",
   "pygments_lexer": "ipython3",
   "version": "3.8.8"
  }
 },
 "nbformat": 4,
 "nbformat_minor": 5
}
